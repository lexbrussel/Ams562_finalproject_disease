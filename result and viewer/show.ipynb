{
 "cells": [
  {
   "cell_type": "code",
   "execution_count": 5,
   "metadata": {},
   "outputs": [
    {
     "data": {
      "application/vnd.jupyter.widget-view+json": {
       "model_id": "60d249e9f7d74305925b523c1f874144",
       "version_major": 2,
       "version_minor": 0
      },
      "text/plain": [
       "interactive(children=(IntSlider(value=0, description='Line Index', max=61), Output()), _dom_classes=('widget-i…"
      ]
     },
     "metadata": {},
     "output_type": "display_data"
    },
    {
     "data": {
      "text/plain": [
       "<function __main__.update_plot(line_index)>"
      ]
     },
     "execution_count": 5,
     "metadata": {},
     "output_type": "execute_result"
    }
   ],
   "source": [
    "import numpy as np\n",
    "import matplotlib.pyplot as plt\n",
    "from ipywidgets import interact, IntSlider\n",
    "\n",
    "# Function to update the plot dynamically\n",
    "def update_plot(line_index):\n",
    "    # Ensure the line index is within the valid range\n",
    "    if line_index < 0 or line_index >= len(data):\n",
    "        print(\"Invalid line index\")\n",
    "        return\n",
    "\n",
    "    line = data[line_index]\n",
    "    line_data = list(map(int, line.strip().split()))\n",
    "\n",
    "    # Ensure each line has exactly four integers\n",
    "    if len(line_data) != 4:\n",
    "        print(f\"Skipping line {line_index + 1} due to invalid data format\")\n",
    "        return\n",
    "\n",
    "    fig, ax = plt.subplots()  # Create figure and axis objects\n",
    "    ax.bar(np.arange(4), line_data)\n",
    "    ax.set_xlabel('Categories')\n",
    "    ax.set_ylabel('Values')\n",
    "    ax.set_title(f'Chart for Day {line_index + 1}')\n",
    "    ax.set_xticks(np.arange(4))\n",
    "    ax.set_xticklabels(['Susceptible', 'Infected', 'Recovered', 'Vaccinated'])\n",
    "    ax.set_ylim(0, 1000)\n",
    "    \n",
    "    plt.show()\n",
    "\n",
    "# File path to your .m file\n",
    "file_path = 'F:\\\\Diseases\\\\Diseases_stimulation\\\\result.m'\n",
    "\n",
    "# Read the data from the .m file\n",
    "with open(file_path, 'r') as file:\n",
    "    data = file.readlines()\n",
    "\n",
    "# Create an interactive slider to select the line index\n",
    "line_slider = IntSlider(min=0, max=len(data) - 1, step=1, value=0, description='Line Index')\n",
    "\n",
    "# Link the interactive widget to the update_plot function\n",
    "interact(update_plot, line_index=line_slider)\n"
   ]
  }
 ],
 "metadata": {
  "kernelspec": {
   "display_name": "base",
   "language": "python",
   "name": "python3"
  },
  "language_info": {
   "codemirror_mode": {
    "name": "ipython",
    "version": 3
   },
   "file_extension": ".py",
   "mimetype": "text/x-python",
   "name": "python",
   "nbconvert_exporter": "python",
   "pygments_lexer": "ipython3",
   "version": "3.11.4"
  }
 },
 "nbformat": 4,
 "nbformat_minor": 2
}
